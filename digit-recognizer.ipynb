{
 "cells": [
  {
   "cell_type": "code",
   "execution_count": 1,
   "id": "9cba1129",
   "metadata": {
    "_cell_guid": "b1076dfc-b9ad-4769-8c92-a6c4dae69d19",
    "_uuid": "8f2839f25d086af736a60e9eeb907d3b93b6e0e5",
    "execution": {
     "iopub.execute_input": "2022-02-20T13:29:09.484321Z",
     "iopub.status.busy": "2022-02-20T13:29:09.483683Z",
     "iopub.status.idle": "2022-02-20T13:29:14.461392Z",
     "shell.execute_reply": "2022-02-20T13:29:14.460755Z",
     "shell.execute_reply.started": "2022-02-20T10:15:39.017451Z"
    },
    "papermill": {
     "duration": 5.004194,
     "end_time": "2022-02-20T13:29:14.461568",
     "exception": false,
     "start_time": "2022-02-20T13:29:09.457374",
     "status": "completed"
    },
    "tags": []
   },
   "outputs": [],
   "source": [
    "import pandas as pd\n",
    "import numpy as np\n",
    "import matplotlib.pyplot as pltg\n",
    "import seaborn as sns\n",
    "from sklearn.model_selection import train_test_split\n",
    "from sklearn.preprocessing import StandardScaler\n",
    "from sklearn.metrics import accuracy_score\n",
    "\n",
    "import tensorflow as tf"
   ]
  },
  {
   "cell_type": "code",
   "execution_count": 2,
   "id": "d6020fcb",
   "metadata": {
    "execution": {
     "iopub.execute_input": "2022-02-20T13:29:14.487189Z",
     "iopub.status.busy": "2022-02-20T13:29:14.486521Z",
     "iopub.status.idle": "2022-02-20T13:29:14.489156Z",
     "shell.execute_reply": "2022-02-20T13:29:14.488624Z",
     "shell.execute_reply.started": "2022-02-20T10:15:46.242363Z"
    },
    "papermill": {
     "duration": 0.017125,
     "end_time": "2022-02-20T13:29:14.489301",
     "exception": false,
     "start_time": "2022-02-20T13:29:14.472176",
     "status": "completed"
    },
    "tags": []
   },
   "outputs": [],
   "source": [
    "PATH = \"../input/digit-recognizer/\"\n",
    "train_path = PATH + \"train.csv\"\n",
    "test_path = PATH + \"test.csv\""
   ]
  },
  {
   "cell_type": "code",
   "execution_count": 3,
   "id": "b3c0251b",
   "metadata": {
    "execution": {
     "iopub.execute_input": "2022-02-20T13:29:14.511862Z",
     "iopub.status.busy": "2022-02-20T13:29:14.511060Z",
     "iopub.status.idle": "2022-02-20T13:29:19.893485Z",
     "shell.execute_reply": "2022-02-20T13:29:19.892782Z",
     "shell.execute_reply.started": "2022-02-20T10:15:46.249406Z"
    },
    "papermill": {
     "duration": 5.394369,
     "end_time": "2022-02-20T13:29:19.893648",
     "exception": false,
     "start_time": "2022-02-20T13:29:14.499279",
     "status": "completed"
    },
    "tags": []
   },
   "outputs": [],
   "source": [
    "train = pd.read_csv(train_path)\n",
    "test = pd.read_csv(test_path)\n",
    "\n",
    "X = train.drop(\"label\", axis=1).to_numpy()\n",
    "y = train[\"label\"].to_numpy()"
   ]
  },
  {
   "cell_type": "code",
   "execution_count": 4,
   "id": "6f50571d",
   "metadata": {
    "execution": {
     "iopub.execute_input": "2022-02-20T13:29:19.919463Z",
     "iopub.status.busy": "2022-02-20T13:29:19.918855Z",
     "iopub.status.idle": "2022-02-20T13:29:20.708384Z",
     "shell.execute_reply": "2022-02-20T13:29:20.707839Z",
     "shell.execute_reply.started": "2022-02-20T10:15:52.417500Z"
    },
    "papermill": {
     "duration": 0.803819,
     "end_time": "2022-02-20T13:29:20.708525",
     "exception": false,
     "start_time": "2022-02-20T13:29:19.904706",
     "status": "completed"
    },
    "tags": []
   },
   "outputs": [],
   "source": [
    "scaler = StandardScaler()\n",
    "scaler.fit(X)\n",
    "X = scaler.transform(X)"
   ]
  },
  {
   "cell_type": "code",
   "execution_count": 5,
   "id": "349e353a",
   "metadata": {
    "execution": {
     "iopub.execute_input": "2022-02-20T13:29:20.736292Z",
     "iopub.status.busy": "2022-02-20T13:29:20.735690Z",
     "iopub.status.idle": "2022-02-20T13:29:21.127805Z",
     "shell.execute_reply": "2022-02-20T13:29:21.127314Z",
     "shell.execute_reply.started": "2022-02-20T10:15:53.304367Z"
    },
    "papermill": {
     "duration": 0.408572,
     "end_time": "2022-02-20T13:29:21.127930",
     "exception": false,
     "start_time": "2022-02-20T13:29:20.719358",
     "status": "completed"
    },
    "tags": []
   },
   "outputs": [],
   "source": [
    "X.resize(42000,28,28)\n",
    "\n",
    "X_train, X_test, y_train, y_test = train_test_split(X,\n",
    "                                                    y,\n",
    "                                                    test_size=0.2,\n",
    "                                                    random_state=42)\n",
    "\n",
    "X_test, X_val, y_test, y_val = train_test_split(X_test,\n",
    "                                                y_test,\n",
    "                                                test_size=0.5,\n",
    "                                                random_state=42)"
   ]
  },
  {
   "cell_type": "code",
   "execution_count": 6,
   "id": "50b06c03",
   "metadata": {
    "execution": {
     "iopub.execute_input": "2022-02-20T13:29:21.153233Z",
     "iopub.status.busy": "2022-02-20T13:29:21.152340Z",
     "iopub.status.idle": "2022-02-20T13:29:21.155886Z",
     "shell.execute_reply": "2022-02-20T13:29:21.156313Z",
     "shell.execute_reply.started": "2022-02-20T10:15:53.743670Z"
    },
    "papermill": {
     "duration": 0.018294,
     "end_time": "2022-02-20T13:29:21.156499",
     "exception": false,
     "start_time": "2022-02-20T13:29:21.138205",
     "status": "completed"
    },
    "tags": []
   },
   "outputs": [
    {
     "name": "stdout",
     "output_type": "stream",
     "text": [
      "Shape of X_train:  (33600, 28, 28)\n",
      "Shape of X_val:  (4200, 28, 28)\n",
      "Shape of X_test:  (4200, 28, 28)\n"
     ]
    }
   ],
   "source": [
    "print(\"Shape of X_train: \", X_train.shape)\n",
    "print(\"Shape of X_val: \", X_val.shape)\n",
    "print(\"Shape of X_test: \", X_test.shape)"
   ]
  },
  {
   "cell_type": "code",
   "execution_count": 7,
   "id": "ca564dc8",
   "metadata": {
    "execution": {
     "iopub.execute_input": "2022-02-20T13:29:21.180538Z",
     "iopub.status.busy": "2022-02-20T13:29:21.179955Z",
     "iopub.status.idle": "2022-02-20T13:29:21.191011Z",
     "shell.execute_reply": "2022-02-20T13:29:21.190524Z",
     "shell.execute_reply.started": "2022-02-20T10:15:53.752941Z"
    },
    "papermill": {
     "duration": 0.023729,
     "end_time": "2022-02-20T13:29:21.191148",
     "exception": false,
     "start_time": "2022-02-20T13:29:21.167419",
     "status": "completed"
    },
    "tags": []
   },
   "outputs": [],
   "source": [
    "def train_model(num_of_epochs):\n",
    "    \n",
    "    from tensorflow import keras\n",
    "    from tensorflow.keras import layers\n",
    "    from tensorflow.keras.layers.experimental import preprocessing\n",
    "\n",
    "    model = keras.Sequential([\n",
    "        layers.InputLayer(input_shape=[28, 28, 1]),\n",
    "\n",
    "        # Data Augmentation\n",
    "        preprocessing.RandomContrast(factor=0.10),\n",
    "        preprocessing.RandomFlip(mode='horizontal'),\n",
    "        preprocessing.RandomRotation(factor=0.10),\n",
    "\n",
    "        # Block One\n",
    "        layers.BatchNormalization(renorm=True),\n",
    "        layers.Conv2D(filters=64, kernel_size=3, activation='relu', padding='same'),\n",
    "        layers.MaxPool2D(),\n",
    "\n",
    "        # Block Two\n",
    "        layers.BatchNormalization(renorm=True),\n",
    "        layers.Conv2D(filters=128, kernel_size=3, activation='relu', padding='same'),\n",
    "        layers.MaxPool2D(),\n",
    "\n",
    "        # Block Three\n",
    "        layers.BatchNormalization(renorm=True),\n",
    "        layers.Conv2D(filters=256, kernel_size=3, activation='relu', padding='same'),\n",
    "        layers.Conv2D(filters=256, kernel_size=3, activation='relu', padding='same'),\n",
    "        layers.MaxPool2D(),\n",
    "\n",
    "        # Head\n",
    "        layers.BatchNormalization(renorm=True),\n",
    "        layers.Flatten(),\n",
    "        layers.Dense(128, activation='relu'),\n",
    "        layers.Dropout(0.2),\n",
    "        layers.Dense(10, activation='sigmoid'),\n",
    "    ])\n",
    "    \n",
    "    optimizer = tf.keras.optimizers.Adam(epsilon=0.01)\n",
    "    model.compile(optimizer='adam',\n",
    "                  loss=tf.keras.losses.SparseCategoricalCrossentropy(from_logits=True),\n",
    "                  metrics=['accuracy'])\n",
    "\n",
    "    history = model.fit(\n",
    "        X_train,\n",
    "        y_train,\n",
    "        validation_data=(X_val, y_val),\n",
    "        epochs=num_of_epochs,\n",
    "    )\n",
    "\n",
    "    return history, model"
   ]
  },
  {
   "cell_type": "code",
   "execution_count": 8,
   "id": "3f4740f0",
   "metadata": {
    "execution": {
     "iopub.execute_input": "2022-02-20T13:29:21.216748Z",
     "iopub.status.busy": "2022-02-20T13:29:21.216053Z",
     "iopub.status.idle": "2022-02-20T13:51:21.970987Z",
     "shell.execute_reply": "2022-02-20T13:51:21.971858Z",
     "shell.execute_reply.started": "2022-02-20T10:15:53.769633Z"
    },
    "papermill": {
     "duration": 1320.770098,
     "end_time": "2022-02-20T13:51:21.972069",
     "exception": false,
     "start_time": "2022-02-20T13:29:21.201971",
     "status": "completed"
    },
    "tags": []
   },
   "outputs": [
    {
     "name": "stderr",
     "output_type": "stream",
     "text": [
      "2022-02-20 13:29:22.150515: I tensorflow/core/common_runtime/process_util.cc:146] Creating new thread pool with default inter op setting: 2. Tune using inter_op_parallelism_threads for best performance.\n",
      "2022-02-20 13:29:22.643301: I tensorflow/compiler/mlir/mlir_graph_optimization_pass.cc:185] None of the MLIR Optimization Passes are enabled (registered 2)\n"
     ]
    },
    {
     "name": "stdout",
     "output_type": "stream",
     "text": [
      "Epoch 1/10\n"
     ]
    },
    {
     "name": "stderr",
     "output_type": "stream",
     "text": [
      "/opt/conda/lib/python3.7/site-packages/keras/backend.py:4907: UserWarning: \"`sparse_categorical_crossentropy` received `from_logits=True`, but the `output` argument was produced by a sigmoid or softmax activation and thus does not represent logits. Was this intended?\"\n",
      "  '\"`sparse_categorical_crossentropy` received `from_logits=True`, but '\n"
     ]
    },
    {
     "name": "stdout",
     "output_type": "stream",
     "text": [
      "1050/1050 [==============================] - 130s 122ms/step - loss: 0.4533 - accuracy: 0.8605 - val_loss: 0.1227 - val_accuracy: 0.9640\n",
      "Epoch 2/10\n",
      "1050/1050 [==============================] - 129s 123ms/step - loss: 0.1497 - accuracy: 0.9563 - val_loss: 0.1291 - val_accuracy: 0.9679\n",
      "Epoch 3/10\n",
      "1050/1050 [==============================] - 130s 124ms/step - loss: 0.1107 - accuracy: 0.9663 - val_loss: 0.0880 - val_accuracy: 0.9719\n",
      "Epoch 4/10\n",
      "1050/1050 [==============================] - 131s 125ms/step - loss: 0.0982 - accuracy: 0.9712 - val_loss: 0.0727 - val_accuracy: 0.9769\n",
      "Epoch 5/10\n",
      "1050/1050 [==============================] - 135s 128ms/step - loss: 0.1086 - accuracy: 0.9705 - val_loss: 0.0634 - val_accuracy: 0.9807\n",
      "Epoch 6/10\n",
      "1050/1050 [==============================] - 131s 125ms/step - loss: 0.0840 - accuracy: 0.9763 - val_loss: 0.0783 - val_accuracy: 0.9769\n",
      "Epoch 7/10\n",
      "1050/1050 [==============================] - 133s 126ms/step - loss: 0.0715 - accuracy: 0.9793 - val_loss: 0.0500 - val_accuracy: 0.9864\n",
      "Epoch 8/10\n",
      "1050/1050 [==============================] - 134s 127ms/step - loss: 0.0695 - accuracy: 0.9800 - val_loss: 0.0664 - val_accuracy: 0.9821\n",
      "Epoch 9/10\n",
      "1050/1050 [==============================] - 132s 126ms/step - loss: 0.0663 - accuracy: 0.9815 - val_loss: 0.0545 - val_accuracy: 0.9831\n",
      "Epoch 10/10\n",
      "1050/1050 [==============================] - 135s 129ms/step - loss: 0.0562 - accuracy: 0.9827 - val_loss: 0.0449 - val_accuracy: 0.9867\n"
     ]
    }
   ],
   "source": [
    "history, model= train_model(10)"
   ]
  },
  {
   "cell_type": "code",
   "execution_count": 9,
   "id": "b2c43294",
   "metadata": {
    "execution": {
     "iopub.execute_input": "2022-02-20T13:51:29.456327Z",
     "iopub.status.busy": "2022-02-20T13:51:29.455724Z",
     "iopub.status.idle": "2022-02-20T13:51:30.192600Z",
     "shell.execute_reply": "2022-02-20T13:51:30.193133Z",
     "shell.execute_reply.started": "2022-02-20T10:41:19.867679Z"
    },
    "papermill": {
     "duration": 4.520037,
     "end_time": "2022-02-20T13:51:30.193308",
     "exception": false,
     "start_time": "2022-02-20T13:51:25.673271",
     "status": "completed"
    },
    "tags": []
   },
   "outputs": [
    {
     "data": {
      "image/png": "[encoded data removed]",
      "text/plain": [
       "<Figure size 432x288 with 1 Axes>"
      ]
     },
     "metadata": {
      "needs_background": "light"
     },
     "output_type": "display_data"
    },
    {
     "data": {
      "image/png": "[encoded data removed]",
      "text/plain": [
       "<Figure size 432x288 with 1 Axes>"
      ]
     },
     "metadata": {
      "needs_background": "light"
     },
     "output_type": "display_data"
    }
   ],
   "source": [
    "# Plot learning curves\n",
    "history_frame = pd.DataFrame(history.history)\n",
    "history_frame.loc[:, ['loss', 'val_loss']].plot()\n",
    "history_frame.loc[:, ['accuracy', 'val_accuracy']].plot();"
   ]
  },
  {
   "cell_type": "code",
   "execution_count": null,
   "id": "99c7508a",
   "metadata": {
    "papermill": {
     "duration": 3.860329,
     "end_time": "2022-02-20T13:51:37.854698",
     "exception": false,
     "start_time": "2022-02-20T13:51:33.994369",
     "status": "completed"
    },
    "tags": []
   },
   "outputs": [],
   "source": []
  }
 ],
 "metadata": {
  "kernelspec": {
   "display_name": "Python 3",
   "language": "python",
   "name": "python3"
  },
  "language_info": {
   "codemirror_mode": {
    "name": "ipython",
    "version": 3
   },
   "file_extension": ".py",
   "mimetype": "text/x-python",
   "name": "python",
   "nbconvert_exporter": "python",
   "pygments_lexer": "ipython3",
   "version": "3.7.12"
  },
  "papermill": {
   "default_parameters": {},
   "duration": 1363.784615,
   "end_time": "2022-02-20T13:51:44.535411",
   "environment_variables": {},
   "exception": null,
   "input_path": "__notebook__.ipynb",
   "output_path": "__notebook__.ipynb",
   "parameters": {},
   "start_time": "2022-02-20T13:29:00.750796",
   "version": "2.3.3"
  }
 },
 "nbformat": 4,
 "nbformat_minor": 5
}
